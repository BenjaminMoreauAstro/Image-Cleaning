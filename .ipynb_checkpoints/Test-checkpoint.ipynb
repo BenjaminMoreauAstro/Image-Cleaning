{
 "cells": [
  {
   "cell_type": "code",
   "execution_count": null,
   "id": "fca5b747-2682-40b7-97cf-cd2a1b03b808",
   "metadata": {},
   "outputs": [],
   "source": [
    "# 0 installs"
   ]
  },
  {
   "cell_type": "code",
   "execution_count": 2,
   "id": "14798e47-3dc3-4cea-bd1b-cac1c95c1daa",
   "metadata": {},
   "outputs": [
    {
     "name": "stdout",
     "output_type": "stream",
     "text": [
      "Collecting xarray-datatree\n",
      "  Downloading xarray_datatree-0.0.15-py3-none-any.whl.metadata (7.6 kB)\n",
      "Requirement already satisfied: xarray<=2024.07.0,>=2023.12.0 in /home/ben/miniconda3/lib/python3.9/site-packages (from xarray-datatree) (2024.7.0)\n",
      "Requirement already satisfied: packaging in /home/ben/miniconda3/lib/python3.9/site-packages (from xarray-datatree) (25.0)\n",
      "Requirement already satisfied: numpy>=1.23 in /home/ben/miniconda3/lib/python3.9/site-packages (from xarray<=2024.07.0,>=2023.12.0->xarray-datatree) (1.26.4)\n",
      "Requirement already satisfied: pandas>=2.0 in /home/ben/miniconda3/lib/python3.9/site-packages (from xarray<=2024.07.0,>=2023.12.0->xarray-datatree) (2.3.1)\n",
      "Requirement already satisfied: python-dateutil>=2.8.2 in /home/ben/miniconda3/lib/python3.9/site-packages (from pandas>=2.0->xarray<=2024.07.0,>=2023.12.0->xarray-datatree) (2.9.0)\n",
      "Requirement already satisfied: pytz>=2020.1 in /home/ben/miniconda3/lib/python3.9/site-packages (from pandas>=2.0->xarray<=2024.07.0,>=2023.12.0->xarray-datatree) (2025.2)\n",
      "Requirement already satisfied: tzdata>=2022.7 in /home/ben/miniconda3/lib/python3.9/site-packages (from pandas>=2.0->xarray<=2024.07.0,>=2023.12.0->xarray-datatree) (2025.2)\n",
      "Requirement already satisfied: six>=1.5 in /home/ben/miniconda3/lib/python3.9/site-packages (from python-dateutil>=2.8.2->pandas>=2.0->xarray<=2024.07.0,>=2023.12.0->xarray-datatree) (1.16.0)\n",
      "Downloading xarray_datatree-0.0.15-py3-none-any.whl (64 kB)\n",
      "Installing collected packages: xarray-datatree\n",
      "Successfully installed xarray-datatree-0.0.15\n"
     ]
    }
   ],
   "source": [
    "#!pip install numba\n",
    "#!pip install xarray\n",
    "#!pip install \"dask[distributed]\" --upgrade    # or pip install\n",
    "#!pip install cerberus\n",
    "#!python3 --version\n",
    "#!pip install astroviper\n",
    "\n",
    "#!pip install toolviper\n",
    "!pip install xarray-datatree\n"
   ]
  },
  {
   "cell_type": "code",
   "execution_count": null,
   "id": "2bac38d6-c868-43e5-a947-a1fe14a479bb",
   "metadata": {},
   "outputs": [],
   "source": [
    "# 1 imports"
   ]
  },
  {
   "cell_type": "code",
   "execution_count": 1,
   "id": "31fcb357-9631-4a0f-9d0a-4435e6136e7d",
   "metadata": {},
   "outputs": [
    {
     "ename": "ImportError",
     "evalue": "Failed to import Hogbom CLEAN extension module. Make sure it is compiled and available.",
     "output_type": "error",
     "traceback": [
      "\u001b[0;31m---------------------------------------------------------------------------\u001b[0m",
      "\u001b[0;31mModuleNotFoundError\u001b[0m                       Traceback (most recent call last)",
      "File \u001b[0;32m/media/ben/home/ben/Documents/Grad Stuff/MM data/Image Cleaning/astroviper/core/imaging/deconvolvers/hogbom/__init__.py:6\u001b[0m\n\u001b[1;32m      5\u001b[0m \u001b[38;5;28;01mtry\u001b[39;00m:\n\u001b[0;32m----> 6\u001b[0m     \u001b[38;5;28;01mfrom\u001b[39;00m\u001b[38;5;250m \u001b[39m\u001b[38;5;21;01m.\u001b[39;00m\u001b[38;5;21;01m_hogbom_ext\u001b[39;00m\u001b[38;5;250m \u001b[39m\u001b[38;5;28;01mimport\u001b[39;00m \u001b[38;5;241m*\u001b[39m\n\u001b[1;32m      7\u001b[0m \u001b[38;5;28;01mexcept\u001b[39;00m \u001b[38;5;167;01mImportError\u001b[39;00m \u001b[38;5;28;01mas\u001b[39;00m e:\n",
      "\u001b[0;31mModuleNotFoundError\u001b[0m: No module named 'astroviper.core.imaging.deconvolvers.hogbom._hogbom_ext'",
      "\nThe above exception was the direct cause of the following exception:\n",
      "\u001b[0;31mImportError\u001b[0m                               Traceback (most recent call last)",
      "Cell \u001b[0;32mIn[1], line 1\u001b[0m\n\u001b[0;32m----> 1\u001b[0m \u001b[38;5;28;01mfrom\u001b[39;00m\u001b[38;5;250m \u001b[39m\u001b[38;5;21;01mastroviper_core_imaging_functions\u001b[39;00m\u001b[38;5;250m \u001b[39m\u001b[38;5;28;01mimport\u001b[39;00m calculate_image_weights\n",
      "File \u001b[0;32m/media/ben/home/ben/Documents/Grad Stuff/MM data/Image Cleaning/astroviper_core_imaging_functions/__init__.py:3\u001b[0m\n\u001b[1;32m      1\u001b[0m \u001b[38;5;28;01mfrom\u001b[39;00m\u001b[38;5;250m \u001b[39m\u001b[38;5;21;01m.\u001b[39;00m\u001b[38;5;21;01mfft\u001b[39;00m\u001b[38;5;250m \u001b[39m\u001b[38;5;28;01mimport\u001b[39;00m fft_lm_to_uv\n\u001b[1;32m      2\u001b[0m \u001b[38;5;28;01mfrom\u001b[39;00m\u001b[38;5;250m \u001b[39m\u001b[38;5;21;01m.\u001b[39;00m\u001b[38;5;21;01mifft\u001b[39;00m\u001b[38;5;250m \u001b[39m\u001b[38;5;28;01mimport\u001b[39;00m ifft_uv_to_lm\n\u001b[0;32m----> 3\u001b[0m \u001b[38;5;28;01mfrom\u001b[39;00m\u001b[38;5;250m \u001b[39m\u001b[38;5;21;01m.\u001b[39;00m\u001b[38;5;21;01mmake_gridding_convolution_function\u001b[39;00m\u001b[38;5;250m \u001b[39m\u001b[38;5;28;01mimport\u001b[39;00m make_gridding_convolution_function\n\u001b[1;32m      4\u001b[0m \u001b[38;5;28;01mfrom\u001b[39;00m\u001b[38;5;250m \u001b[39m\u001b[38;5;21;01m.\u001b[39;00m\u001b[38;5;21;01mmake_aperture_grid\u001b[39;00m\u001b[38;5;250m \u001b[39m\u001b[38;5;28;01mimport\u001b[39;00m make_aperture_grid\n\u001b[1;32m      5\u001b[0m \u001b[38;5;28;01mfrom\u001b[39;00m\u001b[38;5;250m \u001b[39m\u001b[38;5;21;01m.\u001b[39;00m\u001b[38;5;21;01mmake_uv_sampling_grid\u001b[39;00m\u001b[38;5;250m \u001b[39m\u001b[38;5;28;01mimport\u001b[39;00m make_uv_sampling_grid\n",
      "File \u001b[0;32m/media/ben/home/ben/Documents/Grad Stuff/MM data/Image Cleaning/astroviper_core_imaging_functions/make_gridding_convolution_function.py:9\u001b[0m\n\u001b[1;32m      7\u001b[0m \u001b[38;5;28;01mimport\u001b[39;00m\u001b[38;5;250m \u001b[39m\u001b[38;5;21;01mnumba\u001b[39;00m\n\u001b[1;32m      8\u001b[0m \u001b[38;5;28;01mimport\u001b[39;00m\u001b[38;5;250m \u001b[39m\u001b[38;5;21;01mxarray\u001b[39;00m\u001b[38;5;250m \u001b[39m\u001b[38;5;28;01mas\u001b[39;00m\u001b[38;5;250m \u001b[39m\u001b[38;5;21;01mxr\u001b[39;00m\n\u001b[0;32m----> 9\u001b[0m \u001b[38;5;28;01mfrom\u001b[39;00m\u001b[38;5;250m \u001b[39m\u001b[38;5;21;01mastroviper\u001b[39;00m\u001b[38;5;21;01m.\u001b[39;00m\u001b[38;5;21;01mcore\u001b[39;00m\u001b[38;5;21;01m.\u001b[39;00m\u001b[38;5;21;01mimaging\u001b[39;00m\u001b[38;5;21;01m.\u001b[39;00m\u001b[38;5;21;01mcheck_imaging_parameters\u001b[39;00m\u001b[38;5;250m \u001b[39m\u001b[38;5;28;01mimport\u001b[39;00m (\n\u001b[1;32m     10\u001b[0m     check_grid_params,\n\u001b[1;32m     11\u001b[0m     check_gcf_params,\n\u001b[1;32m     12\u001b[0m )\n\u001b[1;32m     13\u001b[0m \u001b[38;5;28;01mfrom\u001b[39;00m\u001b[38;5;250m \u001b[39m\u001b[38;5;21;01mastroviper\u001b[39;00m\u001b[38;5;21;01m.\u001b[39;00m\u001b[38;5;21;01mcore\u001b[39;00m\u001b[38;5;21;01m.\u001b[39;00m\u001b[38;5;21;01mimaging\u001b[39;00m\u001b[38;5;21;01m.\u001b[39;00m\u001b[38;5;21;01mimaging_utils\u001b[39;00m\u001b[38;5;21;01m.\u001b[39;00m\u001b[38;5;21;01mstandard_grid\u001b[39;00m\u001b[38;5;250m \u001b[39m\u001b[38;5;28;01mimport\u001b[39;00m (\n\u001b[1;32m     14\u001b[0m     standard_imaging_weight_degrid_numpy_wrap,\n\u001b[1;32m     15\u001b[0m     standard_grid_psf_numpy_wrap,\n\u001b[1;32m     16\u001b[0m )\n\u001b[1;32m     18\u001b[0m \u001b[38;5;66;03m# from graphviper.parameter_checking.check_params import check_sel_params\u001b[39;00m\n",
      "File \u001b[0;32m/media/ben/home/ben/Documents/Grad Stuff/MM data/Image Cleaning/astroviper/core/imaging/__init__.py:7\u001b[0m\n\u001b[1;32m      5\u001b[0m \u001b[38;5;28;01mfrom\u001b[39;00m\u001b[38;5;250m \u001b[39m\u001b[38;5;21;01m.\u001b[39;00m\u001b[38;5;21;01mmake_uv_sampling_grid\u001b[39;00m\u001b[38;5;250m \u001b[39m\u001b[38;5;28;01mimport\u001b[39;00m make_uv_sampling_grid\n\u001b[1;32m      6\u001b[0m \u001b[38;5;28;01mfrom\u001b[39;00m\u001b[38;5;250m \u001b[39m\u001b[38;5;21;01m.\u001b[39;00m\u001b[38;5;21;01mmake_visibility_grid\u001b[39;00m\u001b[38;5;250m \u001b[39m\u001b[38;5;28;01mimport\u001b[39;00m make_visibility_grid\n\u001b[0;32m----> 7\u001b[0m \u001b[38;5;28;01mfrom\u001b[39;00m\u001b[38;5;250m \u001b[39m\u001b[38;5;21;01m.\u001b[39;00m\u001b[38;5;250m \u001b[39m\u001b[38;5;28;01mimport\u001b[39;00m deconvolvers\n",
      "File \u001b[0;32m/media/ben/home/ben/Documents/Grad Stuff/MM data/Image Cleaning/astroviper/core/imaging/deconvolvers/__init__.py:1\u001b[0m\n\u001b[0;32m----> 1\u001b[0m \u001b[38;5;28;01mfrom\u001b[39;00m\u001b[38;5;250m \u001b[39m\u001b[38;5;21;01m.\u001b[39;00m\u001b[38;5;250m \u001b[39m\u001b[38;5;28;01mimport\u001b[39;00m hogbom\n\u001b[1;32m      3\u001b[0m __all__ \u001b[38;5;241m=\u001b[39m [\u001b[38;5;124m\"\u001b[39m\u001b[38;5;124mhogbom\u001b[39m\u001b[38;5;124m\"\u001b[39m]\n",
      "File \u001b[0;32m/media/ben/home/ben/Documents/Grad Stuff/MM data/Image Cleaning/astroviper/core/imaging/deconvolvers/hogbom/__init__.py:8\u001b[0m\n\u001b[1;32m      6\u001b[0m     \u001b[38;5;28;01mfrom\u001b[39;00m\u001b[38;5;250m \u001b[39m\u001b[38;5;21;01m.\u001b[39;00m\u001b[38;5;21;01m_hogbom_ext\u001b[39;00m\u001b[38;5;250m \u001b[39m\u001b[38;5;28;01mimport\u001b[39;00m \u001b[38;5;241m*\u001b[39m\n\u001b[1;32m      7\u001b[0m \u001b[38;5;28;01mexcept\u001b[39;00m \u001b[38;5;167;01mImportError\u001b[39;00m \u001b[38;5;28;01mas\u001b[39;00m e:\n\u001b[0;32m----> 8\u001b[0m     \u001b[38;5;28;01mraise\u001b[39;00m \u001b[38;5;167;01mImportError\u001b[39;00m(\n\u001b[1;32m      9\u001b[0m         \u001b[38;5;124m\"\u001b[39m\u001b[38;5;124mFailed to import Hogbom CLEAN extension module. \u001b[39m\u001b[38;5;124m\"\u001b[39m\n\u001b[1;32m     10\u001b[0m         \u001b[38;5;124m\"\u001b[39m\u001b[38;5;124mMake sure it is compiled and available.\u001b[39m\u001b[38;5;124m\"\u001b[39m\n\u001b[1;32m     11\u001b[0m     ) \u001b[38;5;28;01mfrom\u001b[39;00m\u001b[38;5;250m \u001b[39m\u001b[38;5;21;01me\u001b[39;00m\n\u001b[1;32m     13\u001b[0m __all__ \u001b[38;5;241m=\u001b[39m [\n\u001b[1;32m     14\u001b[0m     \u001b[38;5;124m\"\u001b[39m\u001b[38;5;124mmaximg\u001b[39m\u001b[38;5;124m\"\u001b[39m,\n\u001b[1;32m     15\u001b[0m     \u001b[38;5;124m\"\u001b[39m\u001b[38;5;124mclean\u001b[39m\u001b[38;5;124m\"\u001b[39m,\n\u001b[0;32m   (...)\u001b[0m\n\u001b[1;32m     19\u001b[0m     \u001b[38;5;124m\"\u001b[39m\u001b[38;5;124mis_float64\u001b[39m\u001b[38;5;124m\"\u001b[39m,\n\u001b[1;32m     20\u001b[0m ]\n",
      "\u001b[0;31mImportError\u001b[0m: Failed to import Hogbom CLEAN extension module. Make sure it is compiled and available."
     ]
    }
   ],
   "source": [
    "\n",
    "from astroviper_core_imaging_functions import calculate_image_weights\n",
    "\n"
   ]
  },
  {
   "cell_type": "code",
   "execution_count": null,
   "id": "6080dd1f-7d8a-498f-ab50-1dc799e2a7e3",
   "metadata": {},
   "outputs": [],
   "source": []
  }
 ],
 "metadata": {
  "kernelspec": {
   "display_name": "Python 3 (ipykernel)",
   "language": "python",
   "name": "python3"
  },
  "language_info": {
   "codemirror_mode": {
    "name": "ipython",
    "version": 3
   },
   "file_extension": ".py",
   "mimetype": "text/x-python",
   "name": "python",
   "nbconvert_exporter": "python",
   "pygments_lexer": "ipython3",
   "version": "3.9.23"
  }
 },
 "nbformat": 4,
 "nbformat_minor": 5
}
