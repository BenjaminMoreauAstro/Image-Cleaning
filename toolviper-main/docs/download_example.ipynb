{
 "cells": [
  {
   "cell_type": "code",
   "execution_count": null,
   "id": "5d86886d-fa1d-4c53-8c07-cf0ee1378211",
   "metadata": {},
   "outputs": [],
   "source": [
    "import toolviper"
   ]
  },
  {
   "cell_type": "markdown",
   "id": "01bc8397-af47-48df-8391-733bba286588",
   "metadata": {},
   "source": [
    "## Getting download metadata version\n",
    "#### This will retireve the current file download metadata version; if the file is not found it will attempt to update to the most recent version."
   ]
  },
  {
   "cell_type": "code",
   "execution_count": null,
   "id": "16a174c2-5d8a-4cfc-a423-a1541adcaf21",
   "metadata": {},
   "outputs": [],
   "source": [
    "toolviper.utils.data.version()"
   ]
  },
  {
   "cell_type": "markdown",
   "id": "fe18a0d9-bd21-4ce5-91fd-6348e5f1369e",
   "metadata": {},
   "source": [
    "### Manually update metdata info."
   ]
  },
  {
   "cell_type": "code",
   "execution_count": null,
   "id": "deeee662-94d9-44a0-95e7-f062f55223ca",
   "metadata": {},
   "outputs": [],
   "source": [
    "toolviper.utils.data.update()"
   ]
  },
  {
   "cell_type": "markdown",
   "id": "0351dda7-7559-449d-9ebb-c853beb0861e",
   "metadata": {},
   "source": [
    "## Getting available downloadable file in a python list.\n",
    "#### This will return an unordered list of the available file on the remote dropbox in a python list. This can be used as an input to thie download function as well."
   ]
  },
  {
   "cell_type": "code",
   "execution_count": null,
   "id": "2912a5ae-7a4b-42f3-a633-cbe5ecaffc74",
   "metadata": {},
   "outputs": [],
   "source": [
    "files = toolviper.utils.data.get_files()\n",
    "files"
   ]
  },
  {
   "cell_type": "code",
   "execution_count": null,
   "id": "28c8b343-3a05-4217-a581-e51c7db95d02",
   "metadata": {},
   "outputs": [],
   "source": [
    "toolviper.utils.data.download(file=files[6:8], folder=\"data\")"
   ]
  },
  {
   "cell_type": "markdown",
   "id": "fdf5ec65-a98b-412b-b5c6-3b4bb23e8312",
   "metadata": {},
   "source": [
    "## Getting available files and metadata in table form."
   ]
  },
  {
   "cell_type": "code",
   "execution_count": null,
   "id": "2439445a-d7fe-4bea-bc43-6edb131447cc",
   "metadata": {},
   "outputs": [],
   "source": [
    "toolviper.utils.data.list_files()"
   ]
  }
 ],
 "metadata": {
  "kernelspec": {
   "display_name": "Python 3 (ipykernel)",
   "language": "python",
   "name": "python3"
  },
  "language_info": {
   "codemirror_mode": {
    "name": "ipython",
    "version": 3
   },
   "file_extension": ".py",
   "mimetype": "text/x-python",
   "name": "python",
   "nbconvert_exporter": "python",
   "pygments_lexer": "ipython3",
   "version": "3.11.13"
  }
 },
 "nbformat": 4,
 "nbformat_minor": 5
}
